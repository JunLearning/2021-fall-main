{
 "cells": [
  {
   "cell_type": "markdown",
   "metadata": {},
   "source": [
    "# Learning the Keras functional API \n",
    "\n",
    "<a id = 'top'></a>\n",
    "\n",
    "  * A. [Intro to Functional API](#introToFunctionalKeras) \n",
    "  * B. [A word about word embeddings](#wordAboutEmbeddings)\n",
    "  * C. [Description of our dataset](#datasetDescription) \n",
    "  * D. [Let's Build our functional model](#buildModel)\n",
    "  * E. [Let's Train and Evaluate our model](#trainModel)\n",
    "  * F. [Considerations for further exploration](#furtherExploration)"
   ]
  },
  {
   "cell_type": "markdown",
   "metadata": {},
   "source": [
    "<a id = 'introToFunctionalKeras'></a>\n",
    "## A. Intro to Functional API\n",
    "The Keras functional syntax for models is only slightly different from the sequential syntax.  It is an intuitive way to build up model graphs.  In return it offers much greater flexibility, allowing multiple connections from arbitrary layers to other layers.  \n",
    "\n",
    "It is referred to as \"functional\" since you use layers as functions called on input nodes to create output nodes.  A good place to start is the [Keras functional documentation](https://keras.io/guides/functional_api/)\n",
    "\n",
    "Many of the more advanced deep-learning networks you will learn about require layer connections which are not strictly sequential; therefore we will mostly use the functional syntax moving forward.\n",
    "\n",
    "This notebook gives you a sense of how to use the functional syntax to create a network, even though our example model will end up being one where layers are consecutively connected.\n",
    "\n",
    "[Go to Top](#top)"
   ]
  },
  {
   "cell_type": "code",
   "execution_count": 1,
   "metadata": {},
   "outputs": [
    {
     "name": "stderr",
     "output_type": "stream",
     "text": [
      "/home/mhbutler/anaconda3/lib/python3.8/site-packages/gensim/similarities/__init__.py:15: UserWarning: The gensim.similarities.levenshtein submodule is disabled, because the optional Levenshtein package <https://pypi.org/project/python-Levenshtein/> is unavailable. Install Levenhstein (e.g. `pip install python-Levenshtein`) to suppress this warning.\n",
      "  warnings.warn(msg)\n"
     ]
    }
   ],
   "source": [
    "import nltk\n",
    "from nltk.corpus import brown\n",
    "from nltk.data import find\n",
    "\n",
    "import gensim\n",
    "\n",
    "import numpy as np"
   ]
  },
  {
   "cell_type": "markdown",
   "metadata": {},
   "source": [
    "<a id = 'wordAboutEmbeddings'></a>\n",
    "## B. A word about word embeddings\n",
    "\n",
    "This example will use pre-trained word embeddings from [nltk / gensim](https://github.com/nltk/nltk/blob/develop/nltk/test/gensim.doctest) \n",
    "\n",
    "You will have more chance to work with embedding vectors in a later homework.  If you haven't been exposed to word embeddings (like \"word2vec\") think of embeddings as a way to represent word meaning in geometric space, allowing us to do things like compare word similarities using vector operations like dot products.  For now, we'll use the word2vec pre-trained model to create an embedding layer for our classifier model.\n",
    "\n",
    "[Go to Top](#top)"
   ]
  },
  {
   "cell_type": "code",
   "execution_count": 2,
   "metadata": {},
   "outputs": [
    {
     "name": "stderr",
     "output_type": "stream",
     "text": [
      "[nltk_data] Downloading package word2vec_sample to\n",
      "[nltk_data]     /home/mhbutler/nltk_data...\n",
      "[nltk_data]   Package word2vec_sample is already up-to-date!\n"
     ]
    },
    {
     "name": "stdout",
     "output_type": "stream",
     "text": [
      "The length of gensim embedding vocabulary : 43981\n",
      "Length d of embedding vectors : 300\n",
      "The shape of our embedding matrix is (43982, 300)\n"
     ]
    }
   ],
   "source": [
    "# Download NLTK's sample word2vec embeddings\n",
    "\n",
    "nltk.download('word2vec_sample')\n",
    "\n",
    "word2vec_sample = str(find('models/word2vec_sample/pruned.word2vec.txt'))\n",
    "\n",
    "embmod = gensim.models.KeyedVectors.load_word2vec_format(word2vec_sample, binary=False)\n",
    "print('The length of gensim embedding vocabulary : {}'.format(len(embmod)))\n",
    "EMBEDDING_DIM = len(embmod['university'])\n",
    "print('Length d of embedding vectors : {}'.format(EMBEDDING_DIM))\n",
    "\n",
    "# initialize embedding matrix and word-to-id map:\n",
    "embedding_matrix = np.zeros((len(embmod) + 1, EMBEDDING_DIM))       \n",
    "vocab_dict = {}\n",
    "\n",
    "# build the embedding matrix and the word-to-id map:\n",
    "for i, word in enumerate(embmod.key_to_index.keys()):\n",
    "    embedding_vector = embmod[word]\n",
    "    if embedding_vector is not None:\n",
    "        # words not found in embedding index will be all-zeros.\n",
    "        embedding_matrix[i] = embedding_vector\n",
    "        vocab_dict[word] = i\n",
    "\n",
    "print('The shape of our embedding matrix is {}'.format(embedding_matrix.shape))"
   ]
  },
  {
   "cell_type": "markdown",
   "metadata": {},
   "source": [
    "<a id = 'datasetDescription'></a>\n",
    "## C. Description of our dataset\n",
    "\n",
    "We will create a classifier model on the [large movie review dataset from Stanford AI Lab](https://ai.stanford.edu/~amaas/data/sentiment/). \n",
    "\n",
    "This dataset was used in the paper:  \n",
    "[Learning Word Vectors for Sentiment Analysis by Andrew L. Maas, Raymond E. Daly, Peter T. Pham, Dan Huang, Andrew Y. Ng, Christopher Potts from the Jun 2011 issue of ACL.](https://www.aclweb.org/anthology/P11-1015.pdf)  \n",
    "\n",
    "The dataset training samples are split between:\n",
    "  * \"negative\" movie reviews, with ratings in the range (1,2,3,4) and \n",
    "  * \"positive reviews in the range of (7,8,9,10).\n",
    " \n",
    "We will re-group the ratings into 2 \"negative\" groups and 2 \"positive\" groups, to make our classification task a bit easier.\n",
    "\n",
    "[Go to Top](#top)"
   ]
  },
  {
   "cell_type": "code",
   "execution_count": 3,
   "metadata": {},
   "outputs": [
    {
     "name": "stdout",
     "output_type": "stream",
     "text": [
      "Our unique class labels are: [0 1 2 3]\n"
     ]
    }
   ],
   "source": [
    "input_length = 100\n",
    "import os\n",
    "import re\n",
    "pos_directory = \"./aclImdb/train/pos/\"\n",
    "neg_directory = \"./aclImdb/train/neg/\"\n",
    "\n",
    "# The original labels are negative in [1,2,3,4] and 'positive in [7,8,9,10]'\n",
    "# To simplify our classification let's reduce the number of classes by remapping ratings:\n",
    "#     Map labels to new labels\n",
    "#      1, 2  map to 0\n",
    "#      3, 4 map to 1\n",
    "#      7, 8  map to 2\n",
    "#      9, 10 map to 3\n",
    "maplabels = {\"1\" : 0, \"2\" : 0, \n",
    "             \"3\" : 1, \"4\" : 1,\n",
    "             \"7\" : 2, \"8\" : 2,\n",
    "             \"9\" : 3, \"10\" : 3}\n",
    "\n",
    "# Create pos and neg training samples by tokenizing the first 100 words from each review\n",
    "pos_samples = []\n",
    "pos_labels = []\n",
    "\n",
    "pat = re.compile('\\d+_(\\d+).txt')\n",
    "for file in os.listdir(pos_directory):\n",
    "    with open(pos_directory + file, 'r') as fh:\n",
    "        review = fh.readline().split()\n",
    "        if len(review) < input_length:\n",
    "            whole = int(input_length / len(review) )\n",
    "            leftover = len(review) % input_length\n",
    "            review = review * whole + review[:leftover]\n",
    "        tokens = [vocab_dict.get(word, 43981) for word in review[:input_length]] # only take the first input_length words\n",
    "        pos_samples.append(tokens)\n",
    "        label = pat.sub(r'\\1', file) # Extract label from filename\n",
    "        pos_labels.append(maplabels[label])\n",
    "        \n",
    "neg_samples = []\n",
    "neg_labels = []\n",
    "for file in os.listdir(neg_directory):\n",
    "    with open(neg_directory + file, 'r') as fh:\n",
    "        review = fh.readline().split()\n",
    "        if len(review) < input_length:\n",
    "            whole = int(input_length / len(review) )\n",
    "            leftover = len(review) % input_length\n",
    "            review = review * whole + review[:leftover]\n",
    "        tokens = [vocab_dict.get(word, 43981) for word in review[:input_length]]\n",
    "        neg_samples.append(tokens)\n",
    "        label = pat.sub(r'\\1', file) # Extract label from filename\n",
    "        neg_labels.append(maplabels[label])\n",
    "        \n",
    "# Create x samples and labels\n",
    "from sklearn.model_selection import train_test_split\n",
    "\n",
    "xsamples = pos_samples + neg_samples # combine lists\n",
    "# labels = [1] * len(pos_samples) + [0] * len(neg_samples)\n",
    "labels = pos_labels + neg_labels\n",
    "\n",
    "# Repackage as numpy arrays\n",
    "xsamples = np.array(xsamples)\n",
    "labels = np.array(labels).reshape([-1,1]) # Labels must have at least one column\n",
    "\n",
    "# Create training, eval split\n",
    "train_input, test_input, train_labels, test_labels = train_test_split(xsamples, labels, test_size = 0.2, \n",
    "                                                         random_state = 41,\n",
    "                                                         shuffle = True)\n",
    "\n",
    "# Investigate the unique class \"levels\"\n",
    "print('Our unique class labels are: {}'.format(np.unique(labels)))\n"
   ]
  },
  {
   "cell_type": "code",
   "execution_count": 4,
   "metadata": {},
   "outputs": [
    {
     "name": "stdout",
     "output_type": "stream",
     "text": [
      "Number of training samples = 20000\n",
      "class 0 has 5868 samples (29.34%)\n",
      "class 1 has 4126 samples (20.63%)\n",
      "class 2 has 4375 samples (21.88%)\n",
      "class 3 has 5631 samples (28.16%)\n",
      "\n",
      "Number of training samples = 5000\n",
      "class 0 has 1516 samples (30.32%)\n",
      "class 1 has 990 samples (19.80%)\n",
      "class 2 has 1130 samples (22.60%)\n",
      "class 3 has 1364 samples (27.28%)\n"
     ]
    }
   ],
   "source": [
    "# Let's look for possible class imbalance\n",
    "ltrain = len(train_labels)\n",
    "print('Number of training samples = {}'.format(ltrain))\n",
    "for i in range(4):\n",
    "    nclass = len(np.where(train_labels.reshape([-1]) == i)[0])\n",
    "    print('class ' + str(i) + ' has {} samples ({:.2f}%)'.format(nclass, 100 * float(nclass / ltrain )))\n",
    "\n",
    "print()\n",
    "ltest = len(test_labels)\n",
    "print('Number of training samples = {}'.format(ltest))\n",
    "for i in range(4):\n",
    "    nclass = len(np.where(test_labels.reshape([-1]) == i)[0])\n",
    "    print('class ' + str(i) + ' has {} samples ({:.2f}%)'.format(nclass, 100 * float(nclass / ltest )))"
   ]
  },
  {
   "cell_type": "markdown",
   "metadata": {},
   "source": [
    "<a id = 'buildModel'></a>\n",
    "## D. Let's build our functional model\n",
    "Building up a graph involves using layers as functions and calling those functions on input tensors to create output tensors, which then can be used to feed other layers.\n",
    "\n",
    "For example, you can create an input and output connection using a dense layer by doing the following:\n",
    "\n",
    "  * x = Dense(50, activation='relu')(x)\n",
    "\n",
    "or by declaring the layer separately and calling that layer as a function with input, x:\n",
    "\n",
    "  * dlayer = Dense(50, activation='relu')  \n",
    "  * x = dlayer(x)\n",
    "\n",
    "In the second representation, you can see that layer instances resemble functions called on graph nodes."
   ]
  },
  {
   "cell_type": "code",
   "execution_count": 5,
   "metadata": {},
   "outputs": [],
   "source": [
    "import tensorflow as tf\n",
    "from tensorflow.keras.layers import Embedding, Input, Dense, Lambda\n",
    "from tensorflow.keras.models import Model\n",
    "import tensorflow.keras.backend as K\n",
    "\n",
    "#  Package our word2vec embedding model as a fixed pre-trained embedding.\n",
    "#  Note we set the argument \"trainable\" to False as we don't want to modify our pre-trained\n",
    "#  ...embedding values during model training.\n",
    "\n",
    "embedding_layer = Embedding(embedding_matrix.shape[0],\n",
    "                            embedding_matrix.shape[1],\n",
    "                            embeddings_initializer=tf.keras.initializers.Constant(embedding_matrix),\n",
    "                            # input_length=input_length,\n",
    "                            trainable=False)\n",
    "\n",
    "# Note that \"trainable\" is set to False, since we want our classifier model to leave embedding vectors alone during training."
   ]
  },
  {
   "cell_type": "markdown",
   "metadata": {},
   "source": [
    "Now that we've created our first embedding layer, let's build the model adding other layers using the **Functional API**: "
   ]
  },
  {
   "cell_type": "code",
   "execution_count": 6,
   "metadata": {},
   "outputs": [],
   "source": [
    "# Choose a word length to truncate each movie review\n",
    "input_length = 100\n",
    "\n",
    "# Define an input using our input fixed number of words per review sample\n",
    "input_x = Input(shape = (input_length,), name=\"input_words\")\n",
    "\n",
    "# Apply embeddings to each word input\n",
    "x = embedding_layer(input_x) \n",
    "\n",
    "# Use Keras lambda function layer to take the mean of the 100 word vectors\n",
    "x = tf.keras.layers.Lambda(lambda x: K.mean(x, axis=1))(x)    # average of embedding vectors\n",
    "\n",
    "# Continue building the network graph                                \n",
    "x = Dense(50, activation='relu')(x)   # hidden layer\n",
    "x = Dense(20, activation='relu')(x)   # hidden layer\n",
    "\n",
    "# Our final output classifier layer.  It has 4 outputs (one for each class)\n",
    "# Because this is a multi-class output we'll use softmax as an activation.\n",
    "# We want the predictor outputs to always sum to 1 to represent probability.\n",
    "yhat = Dense(4, activation='softmax')(x)   # classification layer\n",
    "\n",
    "# Define the model\n",
    "model = Model(inputs=input_x, outputs=yhat, name=\"keras_func_model\")\n",
    "\n",
    "# Compile the model\n",
    "model.compile(optimizer='adam', \n",
    "              loss='sparse_categorical_crossentropy', \n",
    "              metrics = ['sparse_categorical_accuracy'])"
   ]
  },
  {
   "cell_type": "markdown",
   "metadata": {},
   "source": [
    "**Review the output layers, output dimensions, number of weights**"
   ]
  },
  {
   "cell_type": "markdown",
   "metadata": {},
   "source": [
    "Let's see whether our dimension discussion was correct. Print a model summary:"
   ]
  },
  {
   "cell_type": "code",
   "execution_count": 7,
   "metadata": {},
   "outputs": [
    {
     "name": "stdout",
     "output_type": "stream",
     "text": [
      "Model: \"keras_func_model\"\n",
      "_________________________________________________________________\n",
      "Layer (type)                 Output Shape              Param #   \n",
      "=================================================================\n",
      "input_words (InputLayer)     [(None, 100)]             0         \n",
      "_________________________________________________________________\n",
      "embedding (Embedding)        (None, 100, 300)          13194600  \n",
      "_________________________________________________________________\n",
      "lambda (Lambda)              (None, 300)               0         \n",
      "_________________________________________________________________\n",
      "dense (Dense)                (None, 50)                15050     \n",
      "_________________________________________________________________\n",
      "dense_1 (Dense)              (None, 20)                1020      \n",
      "_________________________________________________________________\n",
      "dense_2 (Dense)              (None, 4)                 84        \n",
      "=================================================================\n",
      "Total params: 13,210,754\n",
      "Trainable params: 16,154\n",
      "Non-trainable params: 13,194,600\n",
      "_________________________________________________________________\n"
     ]
    }
   ],
   "source": [
    "model.summary()"
   ]
  },
  {
   "cell_type": "markdown",
   "metadata": {},
   "source": [
    "<a id = 'trainModel'></a>\n",
    "## E. Let's Train and Evaluate our model\n",
    "\n",
    "[Return to Top](#top)"
   ]
  },
  {
   "cell_type": "code",
   "execution_count": 8,
   "metadata": {},
   "outputs": [
    {
     "name": "stdout",
     "output_type": "stream",
     "text": [
      "Epoch 1/50\n",
      "40/40 [==============================] - 4s 86ms/step - loss: 1.3751 - sparse_categorical_accuracy: 0.2982 - val_loss: 1.3649 - val_sparse_categorical_accuracy: 0.3220\n",
      "Epoch 2/50\n",
      "40/40 [==============================] - 3s 75ms/step - loss: 1.3591 - sparse_categorical_accuracy: 0.3569 - val_loss: 1.3435 - val_sparse_categorical_accuracy: 0.3947\n",
      "Epoch 3/50\n",
      "40/40 [==============================] - 3s 76ms/step - loss: 1.3329 - sparse_categorical_accuracy: 0.4043 - val_loss: 1.3027 - val_sparse_categorical_accuracy: 0.4157\n",
      "Epoch 4/50\n",
      "40/40 [==============================] - 3s 76ms/step - loss: 1.2863 - sparse_categorical_accuracy: 0.4278 - val_loss: 1.2543 - val_sparse_categorical_accuracy: 0.4405\n",
      "Epoch 5/50\n",
      "40/40 [==============================] - 3s 76ms/step - loss: 1.2357 - sparse_categorical_accuracy: 0.4427 - val_loss: 1.2101 - val_sparse_categorical_accuracy: 0.4523\n",
      "Epoch 6/50\n",
      "40/40 [==============================] - 3s 77ms/step - loss: 1.1956 - sparse_categorical_accuracy: 0.4581 - val_loss: 1.1852 - val_sparse_categorical_accuracy: 0.4523\n",
      "Epoch 7/50\n",
      "40/40 [==============================] - 3s 76ms/step - loss: 1.1699 - sparse_categorical_accuracy: 0.4640 - val_loss: 1.1687 - val_sparse_categorical_accuracy: 0.4692\n",
      "Epoch 8/50\n",
      "40/40 [==============================] - 3s 77ms/step - loss: 1.1526 - sparse_categorical_accuracy: 0.4761 - val_loss: 1.1542 - val_sparse_categorical_accuracy: 0.4757\n",
      "Epoch 9/50\n",
      "40/40 [==============================] - 3s 77ms/step - loss: 1.1375 - sparse_categorical_accuracy: 0.4867 - val_loss: 1.1443 - val_sparse_categorical_accuracy: 0.4787\n",
      "Epoch 10/50\n",
      "40/40 [==============================] - 3s 76ms/step - loss: 1.1359 - sparse_categorical_accuracy: 0.4887 - val_loss: 1.1351 - val_sparse_categorical_accuracy: 0.4873\n",
      "Epoch 11/50\n",
      "40/40 [==============================] - 3s 77ms/step - loss: 1.1229 - sparse_categorical_accuracy: 0.4981 - val_loss: 1.1289 - val_sparse_categorical_accuracy: 0.4840\n",
      "Epoch 12/50\n",
      "40/40 [==============================] - 3s 77ms/step - loss: 1.1147 - sparse_categorical_accuracy: 0.4987 - val_loss: 1.1239 - val_sparse_categorical_accuracy: 0.4837\n",
      "Epoch 13/50\n",
      "40/40 [==============================] - 3s 78ms/step - loss: 1.1119 - sparse_categorical_accuracy: 0.5002 - val_loss: 1.1164 - val_sparse_categorical_accuracy: 0.4935\n",
      "Epoch 14/50\n",
      "40/40 [==============================] - 3s 77ms/step - loss: 1.1012 - sparse_categorical_accuracy: 0.5092 - val_loss: 1.1115 - val_sparse_categorical_accuracy: 0.4975\n",
      "Epoch 15/50\n",
      "40/40 [==============================] - 3s 77ms/step - loss: 1.0967 - sparse_categorical_accuracy: 0.5104 - val_loss: 1.1113 - val_sparse_categorical_accuracy: 0.5008\n",
      "Epoch 16/50\n",
      "40/40 [==============================] - 3s 78ms/step - loss: 1.0986 - sparse_categorical_accuracy: 0.5109 - val_loss: 1.1116 - val_sparse_categorical_accuracy: 0.4952\n",
      "Epoch 17/50\n",
      "40/40 [==============================] - 3s 77ms/step - loss: 1.0909 - sparse_categorical_accuracy: 0.5193 - val_loss: 1.1028 - val_sparse_categorical_accuracy: 0.5055\n",
      "Epoch 18/50\n",
      "40/40 [==============================] - 3s 77ms/step - loss: 1.0861 - sparse_categorical_accuracy: 0.5227 - val_loss: 1.1028 - val_sparse_categorical_accuracy: 0.5090\n",
      "Epoch 19/50\n",
      "40/40 [==============================] - 3s 77ms/step - loss: 1.0796 - sparse_categorical_accuracy: 0.5184 - val_loss: 1.0965 - val_sparse_categorical_accuracy: 0.5132\n",
      "Epoch 20/50\n",
      "40/40 [==============================] - 3s 77ms/step - loss: 1.0767 - sparse_categorical_accuracy: 0.5233 - val_loss: 1.0950 - val_sparse_categorical_accuracy: 0.5148\n",
      "Epoch 21/50\n",
      "40/40 [==============================] - 3s 77ms/step - loss: 1.0839 - sparse_categorical_accuracy: 0.5237 - val_loss: 1.0950 - val_sparse_categorical_accuracy: 0.5140\n",
      "Epoch 22/50\n",
      "40/40 [==============================] - 3s 77ms/step - loss: 1.0778 - sparse_categorical_accuracy: 0.5253 - val_loss: 1.0911 - val_sparse_categorical_accuracy: 0.5148\n",
      "Epoch 23/50\n",
      "40/40 [==============================] - 3s 77ms/step - loss: 1.0741 - sparse_categorical_accuracy: 0.5222 - val_loss: 1.0911 - val_sparse_categorical_accuracy: 0.5153\n",
      "Epoch 24/50\n",
      "40/40 [==============================] - 3s 76ms/step - loss: 1.0789 - sparse_categorical_accuracy: 0.5233 - val_loss: 1.0912 - val_sparse_categorical_accuracy: 0.5165\n",
      "Epoch 25/50\n",
      "40/40 [==============================] - 3s 77ms/step - loss: 1.0808 - sparse_categorical_accuracy: 0.5196 - val_loss: 1.0879 - val_sparse_categorical_accuracy: 0.5170\n",
      "Epoch 26/50\n",
      "40/40 [==============================] - 3s 77ms/step - loss: 1.0679 - sparse_categorical_accuracy: 0.5259 - val_loss: 1.0868 - val_sparse_categorical_accuracy: 0.5192\n",
      "Epoch 27/50\n",
      "40/40 [==============================] - 3s 76ms/step - loss: 1.0655 - sparse_categorical_accuracy: 0.5331 - val_loss: 1.0871 - val_sparse_categorical_accuracy: 0.5182\n",
      "Epoch 28/50\n",
      "40/40 [==============================] - 3s 76ms/step - loss: 1.0698 - sparse_categorical_accuracy: 0.5299 - val_loss: 1.0906 - val_sparse_categorical_accuracy: 0.5197\n",
      "Epoch 29/50\n",
      "40/40 [==============================] - 3s 77ms/step - loss: 1.0632 - sparse_categorical_accuracy: 0.5288 - val_loss: 1.0883 - val_sparse_categorical_accuracy: 0.5207\n",
      "Epoch 30/50\n",
      "40/40 [==============================] - 3s 77ms/step - loss: 1.0697 - sparse_categorical_accuracy: 0.5298 - val_loss: 1.0876 - val_sparse_categorical_accuracy: 0.5188\n",
      "Epoch 31/50\n",
      "40/40 [==============================] - 3s 76ms/step - loss: 1.0566 - sparse_categorical_accuracy: 0.5281 - val_loss: 1.0849 - val_sparse_categorical_accuracy: 0.5230\n",
      "Epoch 32/50\n",
      "40/40 [==============================] - 3s 77ms/step - loss: 1.0636 - sparse_categorical_accuracy: 0.5290 - val_loss: 1.0871 - val_sparse_categorical_accuracy: 0.5185\n",
      "Epoch 33/50\n",
      "40/40 [==============================] - 3s 76ms/step - loss: 1.0686 - sparse_categorical_accuracy: 0.5285 - val_loss: 1.0842 - val_sparse_categorical_accuracy: 0.5232\n",
      "Epoch 34/50\n",
      "40/40 [==============================] - 3s 77ms/step - loss: 1.0563 - sparse_categorical_accuracy: 0.5321 - val_loss: 1.0825 - val_sparse_categorical_accuracy: 0.5215\n",
      "Epoch 35/50\n",
      "40/40 [==============================] - 3s 76ms/step - loss: 1.0455 - sparse_categorical_accuracy: 0.5366 - val_loss: 1.0853 - val_sparse_categorical_accuracy: 0.5190\n",
      "Epoch 36/50\n",
      "40/40 [==============================] - 3s 77ms/step - loss: 1.0585 - sparse_categorical_accuracy: 0.5378 - val_loss: 1.0833 - val_sparse_categorical_accuracy: 0.5235\n",
      "Epoch 37/50\n",
      "40/40 [==============================] - 3s 76ms/step - loss: 1.0490 - sparse_categorical_accuracy: 0.5351 - val_loss: 1.0856 - val_sparse_categorical_accuracy: 0.5197\n",
      "Epoch 38/50\n",
      "40/40 [==============================] - 3s 76ms/step - loss: 1.0517 - sparse_categorical_accuracy: 0.5336 - val_loss: 1.0826 - val_sparse_categorical_accuracy: 0.5225\n",
      "Epoch 39/50\n",
      "40/40 [==============================] - 3s 77ms/step - loss: 1.0563 - sparse_categorical_accuracy: 0.5323 - val_loss: 1.0818 - val_sparse_categorical_accuracy: 0.5255\n",
      "Epoch 40/50\n",
      "40/40 [==============================] - 3s 76ms/step - loss: 1.0495 - sparse_categorical_accuracy: 0.5388 - val_loss: 1.0886 - val_sparse_categorical_accuracy: 0.5225\n",
      "Epoch 41/50\n",
      "40/40 [==============================] - 3s 76ms/step - loss: 1.0577 - sparse_categorical_accuracy: 0.5312 - val_loss: 1.0819 - val_sparse_categorical_accuracy: 0.5215\n",
      "Epoch 42/50\n",
      "40/40 [==============================] - 3s 77ms/step - loss: 1.0469 - sparse_categorical_accuracy: 0.5402 - val_loss: 1.0924 - val_sparse_categorical_accuracy: 0.5203\n",
      "Epoch 43/50\n",
      "40/40 [==============================] - 3s 77ms/step - loss: 1.0551 - sparse_categorical_accuracy: 0.5347 - val_loss: 1.0835 - val_sparse_categorical_accuracy: 0.5235\n",
      "Epoch 44/50\n",
      "40/40 [==============================] - 3s 76ms/step - loss: 1.0553 - sparse_categorical_accuracy: 0.5345 - val_loss: 1.0806 - val_sparse_categorical_accuracy: 0.5200\n",
      "Epoch 45/50\n",
      "40/40 [==============================] - 3s 76ms/step - loss: 1.0416 - sparse_categorical_accuracy: 0.5391 - val_loss: 1.0814 - val_sparse_categorical_accuracy: 0.5217\n",
      "Epoch 46/50\n"
     ]
    },
    {
     "name": "stdout",
     "output_type": "stream",
     "text": [
      "40/40 [==============================] - 3s 77ms/step - loss: 1.0568 - sparse_categorical_accuracy: 0.5309 - val_loss: 1.0891 - val_sparse_categorical_accuracy: 0.5228\n",
      "Epoch 47/50\n",
      "40/40 [==============================] - 3s 76ms/step - loss: 1.0516 - sparse_categorical_accuracy: 0.5364 - val_loss: 1.0822 - val_sparse_categorical_accuracy: 0.5250\n",
      "Epoch 48/50\n",
      "40/40 [==============================] - 3s 75ms/step - loss: 1.0422 - sparse_categorical_accuracy: 0.5382 - val_loss: 1.0859 - val_sparse_categorical_accuracy: 0.5263\n",
      "Epoch 49/50\n",
      "40/40 [==============================] - 3s 76ms/step - loss: 1.0501 - sparse_categorical_accuracy: 0.5384 - val_loss: 1.0938 - val_sparse_categorical_accuracy: 0.5142\n",
      "Epoch 50/50\n",
      "40/40 [==============================] - 3s 77ms/step - loss: 1.0542 - sparse_categorical_accuracy: 0.5365 - val_loss: 1.0801 - val_sparse_categorical_accuracy: 0.5210\n"
     ]
    }
   ],
   "source": [
    "# Train the model\n",
    "history = model.fit(train_input, train_labels, batch_size = 400, validation_split=0.2, epochs = 50)"
   ]
  },
  {
   "cell_type": "code",
   "execution_count": 9,
   "metadata": {},
   "outputs": [
    {
     "name": "stdout",
     "output_type": "stream",
     "text": [
      "dict_keys(['loss', 'sparse_categorical_accuracy', 'val_loss', 'val_sparse_categorical_accuracy'])\n"
     ]
    },
    {
     "data": {
      "image/png": "[encoded data removed]",
      "text/plain": [
       "<Figure size 432x288 with 1 Axes>"
      ]
     },
     "metadata": {
      "needs_background": "light"
     },
     "output_type": "display_data"
    },
    {
     "data": {
      "image/png": "[encoded data removed]",
      "text/plain": [
       "<Figure size 432x288 with 1 Axes>"
      ]
     },
     "metadata": {
      "needs_background": "light"
     },
     "output_type": "display_data"
    }
   ],
   "source": [
    "# Plot accuracy and loss for training / validation samples\n",
    "import matplotlib.pyplot as plt\n",
    "print(history.history.keys())\n",
    "# summarize history for accuracy\n",
    "plt.plot(history.history['sparse_categorical_accuracy'])\n",
    "plt.plot(history.history['val_sparse_categorical_accuracy'])\n",
    "plt.title('model accuracy')\n",
    "plt.ylabel('sparse_categorical_accuracy')\n",
    "plt.xlabel('epoch')\n",
    "plt.legend(['train', 'validation'], loc='upper left')\n",
    "plt.show()\n",
    "# summarize history for loss\n",
    "plt.plot(history.history['loss'])\n",
    "plt.plot(history.history['val_loss'])\n",
    "plt.title('model loss')\n",
    "plt.ylabel('loss')\n",
    "plt.xlabel('epoch')\n",
    "plt.legend(['train', 'test'], loc='upper left')\n",
    "plt.show()"
   ]
  },
  {
   "cell_type": "markdown",
   "metadata": {},
   "source": [
    "<a id = 'furtherExploration'></a>\n",
    "## F. Some considerations for further exploration are:\n",
    "1. What evidence do you see that the above model might be over-fitting?\n",
    "\n",
    "2. Might BOW have some basic limitations for classification accuracy?  You'll explore this more in a homework on a BOW classifier.\n",
    "\n",
    "3. How might class imbalance impact possible accuracy / bias a model in a particular way to impact accuracy?  How could this be overcome?"
   ]
  },
  {
   "cell_type": "code",
   "execution_count": null,
   "metadata": {},
   "outputs": [],
   "source": []
  }
 ],
 "metadata": {
  "kernelspec": {
   "display_name": "Python 3",
   "language": "python",
   "name": "python3"
  },
  "language_info": {
   "codemirror_mode": {
    "name": "ipython",
    "version": 3
   },
   "file_extension": ".py",
   "mimetype": "text/x-python",
   "name": "python",
   "nbconvert_exporter": "python",
   "pygments_lexer": "ipython3",
   "version": "3.8.8"
  }
 },
 "nbformat": 4,
 "nbformat_minor": 4
}
